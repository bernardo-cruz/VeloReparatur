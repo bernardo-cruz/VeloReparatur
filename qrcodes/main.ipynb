{
 "cells": [
  {
   "cell_type": "code",
   "execution_count": 1,
   "metadata": {},
   "outputs": [],
   "source": [
    "import os\n",
    "import json\n",
    "import qrcode\n",
    "from PIL import Image, ImageDraw, ImageFont"
   ]
  },
  {
   "cell_type": "code",
   "execution_count": 2,
   "metadata": {},
   "outputs": [],
   "source": [
    "urls = {\n",
    "    \"Velohelm\": \"https://youtu.be/-AkwkxSwBmQ?si=XMSy13_LLvYTNM9d\",\n",
    "    \"Kette ölen\": \"https://youtu.be/pgcPdwY0mLg?si=wEwvh4IKpaB4S8NI\",\n",
    "    \"Velo putzen\": \"https://youtu.be/YqjSaplI7CE?si=2KzDqmScr2l1YERg\",\n",
    "    \"Ketten reinigen\": \"https://youtu.be/DagTqcQClzo?si=S4OfFXgqftZ9n-Zh\",\n",
    "    \"Rad demontieren\": \"https://youtu.be/nPJ98JZQtx0?si=Zolh8lKloI8M-OUR\",\n",
    "    \"Reifen Druck prüfen\": \"https://youtu.be/nKD_cWKnskk?si=Ni92hsVkHszAgP8q\",\n",
    "    \"Schlauch reparieren\": \"https://youtu.be/hiZBu3NxVQg?si=kL0o-sKvfvi1tpw4\",\n",
    "    \"Schlauch wechseln\": \"https://youtu.be/Q2f_Iwyud60?si=D7oRJw2deAfBiWVt\",\n",
    "    \"Bremse einstellen\": \"https://youtu.be/wyTJsTAZom8?si=sCHnSFLMZBezzMZo\",\n",
    "    \"Bremsbeläge wechseln [Normal]\" : \"https://youtu.be/9p6onCzlZu8?si=0dyt2mI6Jd3bCan9\",\n",
    "    \"Bremsbeläge wechseln [Scheibenbremse]\" : \"https://youtu.be/i_FjOJC0HWM?si=sFUK5gbAJH9OUc-_\",\n",
    "}\n",
    "\n",
    "# Dumb dict as json\n",
    "with open('urls.json', 'w') as json_file:\n",
    "    json.dump(urls, json_file, ensure_ascii=False)"
   ]
  },
  {
   "cell_type": "code",
   "execution_count": 3,
   "metadata": {},
   "outputs": [
    {
     "name": "stdout",
     "output_type": "stream",
     "text": [
      "QR code for https://youtu.be/-AkwkxSwBmQ?si=XMSy13_LLvYTNM9d saved as ../imgs/Velohelm.png\n",
      "QR code for https://youtu.be/pgcPdwY0mLg?si=wEwvh4IKpaB4S8NI saved as ../imgs/Kette ölen.png\n",
      "QR code for https://youtu.be/YqjSaplI7CE?si=2KzDqmScr2l1YERg saved as ../imgs/Velo putzen.png\n",
      "QR code for https://youtu.be/DagTqcQClzo?si=S4OfFXgqftZ9n-Zh saved as ../imgs/Ketten reinigen.png\n",
      "QR code for https://youtu.be/nPJ98JZQtx0?si=Zolh8lKloI8M-OUR saved as ../imgs/Rad demontieren.png\n",
      "QR code for https://youtu.be/nKD_cWKnskk?si=Ni92hsVkHszAgP8q saved as ../imgs/Reifen Druck prüfen.png\n",
      "QR code for https://youtu.be/hiZBu3NxVQg?si=kL0o-sKvfvi1tpw4 saved as ../imgs/Schlauch reparieren.png\n",
      "QR code for https://youtu.be/Q2f_Iwyud60?si=D7oRJw2deAfBiWVt saved as ../imgs/Schlauch wechseln.png\n",
      "QR code for https://youtu.be/wyTJsTAZom8?si=sCHnSFLMZBezzMZo saved as ../imgs/Bremse einstellen.png\n",
      "QR code for https://youtu.be/9p6onCzlZu8?si=0dyt2mI6Jd3bCan9 saved as ../imgs/Bremsbeläge wechseln [Normal].png\n",
      "QR code for https://youtu.be/i_FjOJC0HWM?si=sFUK5gbAJH9OUc-_ saved as ../imgs/Bremsbeläge wechseln [Scheibenbremse].png\n"
     ]
    }
   ],
   "source": [
    "# Directory to save QR codes\n",
    "output_directory = \"../imgs/\"\n",
    "\n",
    "# Ensure the directory exists\n",
    "os.makedirs(output_directory, exist_ok=True)\n",
    "\n",
    "# Generate QR codes\n",
    "for annotation, url in urls.items():\n",
    "    # Create QR Code object\n",
    "    qr = qrcode.QRCode(\n",
    "        version=1,  # Controls the size of the QR Code\n",
    "        error_correction=qrcode.constants.ERROR_CORRECT_L,  # Error correction level\n",
    "        box_size=10,  # Size of each box in the QR code grid\n",
    "        border=4,  # Thickness of the border (minimum is 4)\n",
    "    )\n",
    "    qr.add_data(url)  # Add URL to the QR code\n",
    "    qr.make(fit=True)  # Adjust size to fit the data\n",
    "\n",
    "    # Create an image of the QR code\n",
    "    img = qr.make_image(fill_color=\"black\", back_color=\"white\")\n",
    "    \n",
    "    # Save the QR code as an image file\n",
    "    file_name = f\"{annotation}.png\"\n",
    "    file_path = os.path.join(output_directory, file_name)\n",
    "    img.save(file_path)\n",
    "\n",
    "    print(f\"QR code for {url} saved as {file_path}\")\n"
   ]
  }
 ],
 "metadata": {
  "kernelspec": {
   "display_name": "bsh_velo",
   "language": "python",
   "name": "python3"
  },
  "language_info": {
   "codemirror_mode": {
    "name": "ipython",
    "version": 3
   },
   "file_extension": ".py",
   "mimetype": "text/x-python",
   "name": "python",
   "nbconvert_exporter": "python",
   "pygments_lexer": "ipython3",
   "version": "3.13.1"
  }
 },
 "nbformat": 4,
 "nbformat_minor": 2
}
